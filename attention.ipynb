{
 "cells": [
  {
   "cell_type": "code",
   "execution_count": 1,
   "id": "70ec2202-f63d-484f-ba43-97e08888cef9",
   "metadata": {},
   "outputs": [],
   "source": [
    "import torch\n",
    "from torch import nn\n",
    "from torch.optim import Adam\n",
    "import pandas as pd\n",
    "import numpy as np\n",
    "import tqdm\n",
    "\n",
    "device = \"cuda\" if torch.cuda.is_available() else \"cpu\"\n",
    "\n",
    "from sklearn.datasets import make_regression"
   ]
  },
  {
   "cell_type": "code",
   "execution_count": 2,
   "id": "e1f86530-995a-488f-9b59-55f83d0b4efc",
   "metadata": {},
   "outputs": [],
   "source": [
    "samples = 5000\n",
    "\n",
    "X, y = make_regression(n_samples = samples, n_features = 24, n_informative = 2)\n",
    "\n",
    "split = 0.9\n",
    "\n",
    "X_train, X_test = X[:int(samples * split)], X[-int(samples * (1-split)):]\n",
    "y_train, y_test = y[:int(samples * split)], y[-int(samples * (1-split)):]"
   ]
  },
  {
   "cell_type": "code",
   "execution_count": 3,
   "id": "2ebde2ac-4a38-442a-bd93-60fb079f634c",
   "metadata": {},
   "outputs": [],
   "source": [
    "import yfinance as yf"
   ]
  },
  {
   "cell_type": "code",
   "execution_count": 4,
   "id": "40cf9fe9-f02c-4bd4-8172-6804cdc20030",
   "metadata": {},
   "outputs": [
    {
     "name": "stdout",
     "output_type": "stream",
     "text": [
      "[*********************100%***********************]  2 of 2 completed\n"
     ]
    }
   ],
   "source": [
    "prices = yf.download(['PETR4.SA', 'OIBR3.SA'])['Adj Close']"
   ]
  },
  {
   "cell_type": "code",
   "execution_count": 5,
   "id": "10010a54-8c9e-4b97-b1da-ce3bcc7d69f5",
   "metadata": {},
   "outputs": [],
   "source": [
    "dataframe = {}\n",
    "for asset in prices.columns:\n",
    "    \n",
    "    features= pd.DataFrame()\n",
    "    for window in range(1, 25):\n",
    "        features[window] = np.log(prices[asset]) - np.log(prices[asset].shift(window * 20))\n",
    "        \n",
    "    target = np.log(prices[asset].shift(-20)) - np.log(prices[asset])\n",
    "    feature_n_target = pd.concat([features, target], axis=1).reset_index(drop=True)\n",
    "    feature_n_target = feature_n_target.rename({asset: 'TARGET'}, axis=1)\n",
    "                       \n",
    "    dataframe[asset] = feature_n_target\n",
    "    \n",
    "train_data = pd.DataFrame()\n",
    "for asset in prices.columns:\n",
    "    \n",
    "    train_data = train_data.append(dataframe[asset])\n",
    "    \n",
    "train_data.dropna(inplace=True)"
   ]
  },
  {
   "cell_type": "code",
   "execution_count": 6,
   "id": "d025ace2-5f24-4524-9b9d-8d8655142025",
   "metadata": {},
   "outputs": [],
   "source": [
    "from sklearn.model_selection import train_test_split"
   ]
  },
  {
   "cell_type": "code",
   "execution_count": 7,
   "id": "2ddd35dc-2b4a-4edb-aef1-8025fabaf0ec",
   "metadata": {},
   "outputs": [],
   "source": [
    "X = np.array(train_data.drop(['TARGET'], axis=1))\n",
    "y = np.array(train_data['TARGET'])\n",
    "\n",
    "X_train, X_test, y_train, y_test = train_test_split(X, y, test_size=0.1, random_state=42)"
   ]
  },
  {
   "cell_type": "code",
   "execution_count": 8,
   "id": "da218b66-9d30-45a9-a942-fc75309f2f71",
   "metadata": {},
   "outputs": [
    {
     "data": {
      "text/plain": [
       "(6289, 24)"
      ]
     },
     "execution_count": 8,
     "metadata": {},
     "output_type": "execute_result"
    }
   ],
   "source": [
    "X_train.shape"
   ]
  },
  {
   "cell_type": "code",
   "execution_count": 9,
   "id": "fb11614f-6530-47e8-bec8-c936dc74def6",
   "metadata": {},
   "outputs": [],
   "source": [
    "N = X_train.shape[0]\n",
    "E = X_train.shape[1]\n",
    "\n",
    "query = torch.tensor(X_train.reshape(1, N, E).astype(np.float32)).to(device)\n",
    "key = torch.tensor(X_train.reshape(1, N, E).astype(np.float32)).to(device)\n",
    "value = torch.tensor(X_train.reshape(1, N, E).astype(np.float32)).to(device)\n",
    "y_train_torch = torch.tensor(y_train.astype(np.float32)).to(device)"
   ]
  },
  {
   "cell_type": "code",
   "execution_count": 10,
   "id": "2153dbb4-097d-4052-b8d3-3472e9508a86",
   "metadata": {},
   "outputs": [],
   "source": [
    "class NnAttention(nn.Module):\n",
    "    def __init__(self, embedding_dim, attention_heads = 1):\n",
    "        super(NnAttention, self).__init__()\n",
    "        \n",
    "        self.embedding_dim = embedding_dim\n",
    "        \n",
    "        self.multihead_attn = nn.MultiheadAttention(embedding_dim, attention_heads)\n",
    "        \n",
    "        self.linear_relu = nn.Sequential(\n",
    "            nn.Linear(embedding_dim, 12),\n",
    "            nn.ReLU(),\n",
    "            nn.Linear(12, 12),\n",
    "            nn.ReLU(),\n",
    "            nn.Linear(12, 1),\n",
    "            nn.Tanh()\n",
    "        )\n",
    "        \n",
    "        self.criterion = nn.MSELoss()\n",
    "        self.optmizer = Adam(self.parameters())\n",
    "\n",
    "    def forward(self, query, key, value):\n",
    "        \n",
    "        batch_size = query.shape[1]\n",
    "\n",
    "        attn_output, attn_output_weights = self.multihead_attn(query, key, value)\n",
    "        \n",
    "        output = self.linear_relu(attn_output.reshape(batch_size, self.embedding_dim))\n",
    "        \n",
    "        return output.squeeze()\n",
    "    \n",
    "    def fit(self, query, key, value, y, epochs =1):\n",
    "        \n",
    "        t = tqdm.trange(epochs, desc='Loss: ')\n",
    "        for _ in t:\n",
    "            self.zero_grad()\n",
    "            output = self.forward(query, key, value)\n",
    "            loss = self.criterion(output,y)\n",
    "            loss.backward()\n",
    "            self.optmizer.step() \n",
    "            \n",
    "            t.set_description(f\"Loss: {loss}\", refresh=True)"
   ]
  },
  {
   "cell_type": "code",
   "execution_count": 11,
   "id": "3a7831e2-2474-47d9-a268-eb1cf53ecd5d",
   "metadata": {},
   "outputs": [],
   "source": [
    "model = NnAttention(E, 6).to(device)"
   ]
  },
  {
   "cell_type": "code",
   "execution_count": 12,
   "id": "c35ed94e-56ee-4cd4-b865-18a133d1a964",
   "metadata": {},
   "outputs": [
    {
     "name": "stderr",
     "output_type": "stream",
     "text": [
      "Loss: 0.47330453991889954: 100%|███████████████████████████████████████████████████| 2500/2500 [00:19<00:00, 127.42it/s]\n"
     ]
    }
   ],
   "source": [
    "y_train_norm = (y_train_torch - torch.mean(y_train_torch)) / (torch.std(y_train_torch))\n",
    "\n",
    "model.fit(query, key, value, y_train_norm, epochs = 2500)"
   ]
  },
  {
   "cell_type": "code",
   "execution_count": 13,
   "id": "d4a73893-eb5f-4c0d-9511-d203398e0ce7",
   "metadata": {},
   "outputs": [],
   "source": [
    "N = X_test.shape[0]\n",
    "E = X_test.shape[1]\n",
    "\n",
    "\n",
    "query = torch.tensor(X_test.reshape(1, N, E).astype(np.float32)).to(device)\n",
    "key = torch.tensor(X_test.reshape(1, N, E).astype(np.float32)).to(device)\n",
    "value = torch.tensor(X_test.reshape(1, N, E).astype(np.float32)).to(device)\n",
    "\n",
    "y_hat = model(query, key, value)\n",
    "y_hat = np.sign(y_hat.cpu().detach())"
   ]
  },
  {
   "cell_type": "code",
   "execution_count": 14,
   "id": "1089d507-a6b7-439c-acae-d49c1d441ec9",
   "metadata": {},
   "outputs": [],
   "source": [
    "from sklearn.metrics import classification_report"
   ]
  },
  {
   "cell_type": "code",
   "execution_count": 15,
   "id": "f635160b-db26-4d65-a627-f759e36679c5",
   "metadata": {},
   "outputs": [
    {
     "name": "stderr",
     "output_type": "stream",
     "text": [
      "/home/leme/miniconda3/envs/general/lib/python3.9/site-packages/sklearn/metrics/_classification.py:1308: UndefinedMetricWarning: Recall and F-score are ill-defined and being set to 0.0 in labels with no true samples. Use `zero_division` parameter to control this behavior.\n",
      "  _warn_prf(average, modifier, msg_start, len(result))\n"
     ]
    },
    {
     "name": "stdout",
     "output_type": "stream",
     "text": [
      "              precision    recall  f1-score   support\n",
      "\n",
      "        -1.0       0.77      0.80      0.78       297\n",
      "         0.0       0.00      0.00      0.00         0\n",
      "         1.0       0.85      0.82      0.83       402\n",
      "\n",
      "    accuracy                           0.81       699\n",
      "   macro avg       0.54      0.54      0.54       699\n",
      "weighted avg       0.81      0.81      0.81       699\n",
      "\n"
     ]
    },
    {
     "name": "stderr",
     "output_type": "stream",
     "text": [
      "/home/leme/miniconda3/envs/general/lib/python3.9/site-packages/sklearn/metrics/_classification.py:1308: UndefinedMetricWarning: Recall and F-score are ill-defined and being set to 0.0 in labels with no true samples. Use `zero_division` parameter to control this behavior.\n",
      "  _warn_prf(average, modifier, msg_start, len(result))\n",
      "/home/leme/miniconda3/envs/general/lib/python3.9/site-packages/sklearn/metrics/_classification.py:1308: UndefinedMetricWarning: Recall and F-score are ill-defined and being set to 0.0 in labels with no true samples. Use `zero_division` parameter to control this behavior.\n",
      "  _warn_prf(average, modifier, msg_start, len(result))\n"
     ]
    }
   ],
   "source": [
    "print(classification_report(y_hat, np.sign(y_test)))"
   ]
  },
  {
   "cell_type": "code",
   "execution_count": 21,
   "id": "48efd8a4-831e-4c58-b027-02d4593d25a1",
   "metadata": {},
   "outputs": [
    {
     "name": "stdout",
     "output_type": "stream",
     "text": [
      "              precision    recall  f1-score   support\n",
      "\n",
      "        -1.0       0.53      0.46      0.49       357\n",
      "         0.0       0.00      0.00      0.00         0\n",
      "         1.0       0.50      0.57      0.54       342\n",
      "\n",
      "    accuracy                           0.51       699\n",
      "   macro avg       0.34      0.34      0.34       699\n",
      "weighted avg       0.52      0.51      0.51       699\n",
      "\n"
     ]
    },
    {
     "name": "stderr",
     "output_type": "stream",
     "text": [
      "/home/leme/miniconda3/envs/general/lib/python3.9/site-packages/sklearn/metrics/_classification.py:1308: UndefinedMetricWarning: Recall and F-score are ill-defined and being set to 0.0 in labels with no true samples. Use `zero_division` parameter to control this behavior.\n",
      "  _warn_prf(average, modifier, msg_start, len(result))\n",
      "/home/leme/miniconda3/envs/general/lib/python3.9/site-packages/sklearn/metrics/_classification.py:1308: UndefinedMetricWarning: Recall and F-score are ill-defined and being set to 0.0 in labels with no true samples. Use `zero_division` parameter to control this behavior.\n",
      "  _warn_prf(average, modifier, msg_start, len(result))\n",
      "/home/leme/miniconda3/envs/general/lib/python3.9/site-packages/sklearn/metrics/_classification.py:1308: UndefinedMetricWarning: Recall and F-score are ill-defined and being set to 0.0 in labels with no true samples. Use `zero_division` parameter to control this behavior.\n",
      "  _warn_prf(average, modifier, msg_start, len(result))\n"
     ]
    }
   ],
   "source": [
    "print(classification_report(np.sign(X_test[:, 12]), np.sign(y_test)))"
   ]
  },
  {
   "cell_type": "code",
   "execution_count": 128,
   "id": "a478e0a8-07a6-4268-9e38-fa1ffbffcb77",
   "metadata": {},
   "outputs": [],
   "source": [
    "# from torch.utils.data import Dataset\n",
    "# from torch.utils.data import DataLoader\n",
    "\n",
    "# class AttentionTimeSeries(Dataset):\n",
    "#     def __init__(self, X, y, embedding_dim):\n",
    "#         super(AttentionTimeSeries, self).__init__()\n",
    "        \n",
    "#         self.time_series_size = len(dataframe)\n",
    "#         self.embedding_dim = X.shape[1]\n",
    "        \n",
    "#         self.attention_input = torch.tensor(X_test.reshape(1, time_series_size, self.embedding_dim).astype(np.float32)).to(device)\n",
    "\n",
    "#     def __len__(self):\n",
    "#         return self.time_series_size\n",
    "\n",
    "#     def __getitem__(self, index):\n",
    "#         return self.attention_input"
   ]
  }
 ],
 "metadata": {
  "kernelspec": {
   "display_name": "Python 3 (ipykernel)",
   "language": "python",
   "name": "python3"
  },
  "language_info": {
   "codemirror_mode": {
    "name": "ipython",
    "version": 3
   },
   "file_extension": ".py",
   "mimetype": "text/x-python",
   "name": "python",
   "nbconvert_exporter": "python",
   "pygments_lexer": "ipython3",
   "version": "3.9.7"
  }
 },
 "nbformat": 4,
 "nbformat_minor": 5
}
